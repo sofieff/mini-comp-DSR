{
 "cells": [
  {
   "cell_type": "markdown",
   "id": "d3ec3cdb",
   "metadata": {},
   "source": [
    "IQ city"
   ]
  },
  {
   "cell_type": "code",
   "execution_count": 1,
   "id": "254dd047",
   "metadata": {},
   "outputs": [
    {
     "ename": "NameError",
     "evalue": "name 'X_iq_train_features' is not defined",
     "output_type": "error",
     "traceback": [
      "\u001b[31m---------------------------------------------------------------------------\u001b[39m",
      "\u001b[31mNameError\u001b[39m                                 Traceback (most recent call last)",
      "\u001b[36mCell\u001b[39m\u001b[36m \u001b[39m\u001b[32mIn[1]\u001b[39m\u001b[32m, line 6\u001b[39m\n\u001b[32m      3\u001b[39m scale = StandardScaler()\n\u001b[32m      5\u001b[39m \u001b[38;5;66;03m# X = iq_train_features[features][:idx_iq]\u001b[39;00m\n\u001b[32m----> \u001b[39m\u001b[32m6\u001b[39m X = \u001b[43mX_iq_train_features\u001b[49m[:][:idx_iq]\n\u001b[32m      7\u001b[39m y = iq_train_features[\u001b[33m'\u001b[39m\u001b[33mtotal_cases\u001b[39m\u001b[33m'\u001b[39m][:idx_iq]\n\u001b[32m      9\u001b[39m \u001b[38;5;66;03m# X[features] = scale.fit_transform(X[features].values)\u001b[39;00m\n\u001b[32m     10\u001b[39m \n\u001b[32m     11\u001b[39m \u001b[38;5;66;03m# Add a constant column to our model so we can have a Y-intercept\u001b[39;00m\n",
      "\u001b[31mNameError\u001b[39m: name 'X_iq_train_features' is not defined"
     ]
    }
   ],
   "source": [
    "import statsmodels.api as sm\n",
    "from sklearn.preprocessing import StandardScaler\n",
    "scale = StandardScaler()\n",
    "\n",
    "idx_iq = 350\n",
    "\n",
    "# X = iq_train_features[features][:idx_iq]\n",
    "X = X_iq_train_features[:][:idx_iq]\n",
    "y = iq_train_features['total_cases'][:idx_iq]\n",
    "\n",
    "# X[features] = scale.fit_transform(X[features].values)\n",
    "\n",
    "# Add a constant column to our model so we can have a Y-intercept\n",
    "X = sm.add_constant(X)\n",
    "\n",
    "print (X)\n",
    "\n",
    "est = sm.OLS(y, X).fit()\n",
    "\n",
    "print(est.summary())"
   ]
  },
  {
   "cell_type": "code",
   "execution_count": null,
   "id": "80ea7dfb",
   "metadata": {},
   "outputs": [],
   "source": [
    "# X = iq_train_features[features][idx_iq+1:]\n",
    "X = X_iq_train_features[:][idx_iq+1:]\n",
    "\n",
    "# X = iq_test_features[features]\n",
    "# X[features] = scale.fit_transform(X[features].values)\n",
    "\n",
    "X = sm.add_constant(X)\n",
    "\n",
    "print(X)\n",
    "predicted = est.predict(X).astype(int)\n",
    "print(predicted)"
   ]
  },
  {
   "cell_type": "code",
   "execution_count": null,
   "id": "2c85821a",
   "metadata": {},
   "outputs": [],
   "source": [
    "predicted.plot.line()\n",
    "y_actual = iq_train_features['total_cases'][idx_iq+1:].plot.line()"
   ]
  }
 ],
 "metadata": {
  "kernelspec": {
   "display_name": "Python 3",
   "language": "python",
   "name": "python3"
  },
  "language_info": {
   "codemirror_mode": {
    "name": "ipython",
    "version": 3
   },
   "file_extension": ".py",
   "mimetype": "text/x-python",
   "name": "python",
   "nbconvert_exporter": "python",
   "pygments_lexer": "ipython3",
   "version": "3.13.3"
  }
 },
 "nbformat": 4,
 "nbformat_minor": 5
}
